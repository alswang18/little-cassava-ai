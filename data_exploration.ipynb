{
 "cells": [
  {
   "cell_type": "markdown",
   "id": "silver-message",
   "metadata": {},
   "source": [
    "# Section 1: Data Cleaning\n",
    "\n",
    "### In this section we:\n",
    "- Added text labels to csv dataset\n",
    "- Pruned dataset to meet needs\n",
    "- Created brightness augmentations using PIL"
   ]
  },
  {
   "cell_type": "code",
   "execution_count": null,
   "id": "alpha-filling",
   "metadata": {},
   "outputs": [],
   "source": [
    "import os\n",
    "from PIL import Image\n",
    "import numpy as np\n",
    "from collections import defaultdict\n",
    "import pandas as pd\n",
    "import matplotlib.pyplot as plt"
   ]
  },
  {
   "cell_type": "code",
   "execution_count": null,
   "id": "contrary-dynamics",
   "metadata": {},
   "outputs": [],
   "source": [
    "# # don't run without train_images folder\n",
    "# images = os.listdir()\n",
    "# size_counts = defaultdict(int)\n",
    "# def is_jpg(filename):\n",
    "#     try:\n",
    "#         i=Image.open(filename)\n",
    "#         return i.format =='JPEG'\n",
    "#     except IOError:\n",
    "#         return False\n",
    "# for i in range(len(images)-1, len(images)):\n",
    "#     if not is_jpg(images[i]):\n",
    "#         continue\n",
    "#     im = Image.open(images[i])\n",
    "#     size_counts[im.size]+=1\n",
    "# size_counts = dict(size_counts)\n",
    "# print(len(images), \"images of size:\", im.size)"
   ]
  },
  {
   "cell_type": "markdown",
   "id": "shaped-secretary",
   "metadata": {},
   "source": [
    "## Read the csv as a dataframe and map number codes to the long label\n",
    "\n",
    "### We declare a function that uses a manually created dictionary to the type of condition the data has"
   ]
  },
  {
   "cell_type": "code",
   "execution_count": null,
   "id": "raised-hampshire",
   "metadata": {},
   "outputs": [],
   "source": [
    "def numToLong(input):\n",
    "    return {\"0\": \"Cassava Bacterial Blight (CBB)\", \n",
    "            \"1\": \"Cassava Brown Streak Disease (CBSD)\", \n",
    "            \"2\": \"Cassava Green Mottle (CGM)\", \n",
    "            \"3\": \"Cassava Mosaic Disease (CMD)\", \n",
    "            \"4\": \"Healthy\"}[str(input)]\n",
    "np.random.seed(42)\n",
    "df = pd.read_csv('./train.csv')\n",
    "df['long_labels'] = df.label.map(lambda x: numToLong(x))"
   ]
  },
  {
   "cell_type": "markdown",
   "id": "unique-orleans",
   "metadata": {},
   "source": [
    "## Remove extra images from train_images folder\n",
    "\n",
    "We want the data to be balanced between sick and not sick so we have roughly 2500 healthy images and ~500 of each disease in our final dataset for this project"
   ]
  },
  {
   "cell_type": "code",
   "execution_count": null,
   "id": "coordinate-dublin",
   "metadata": {},
   "outputs": [],
   "source": [
    "# #remove if statement if you wanna remove the images.\n",
    "# if(df.shape[0]<10000 and False):\n",
    "#     remove_amounts = [x-2577//4 if x!=2577 else 0 for x in list(df.long_labels.value_counts())]\n",
    "#     rm_dict = {0:remove_amounts[4],1:remove_amounts[2],2:remove_amounts[3],3:remove_amounts[0]}\n",
    "\n",
    "#     df_pruned = df.copy() \n",
    "#     for i in [0,1,2,3]:\n",
    "#         frac = rm_dict[i]/df_pruned[df_pruned['label']==i].count()[0]\n",
    "#         print(\"removing \", df_pruned[df_pruned['label']==i].count()[0], numToLong(i))\n",
    "#         df_pruned = df_pruned.drop(df_pruned[df_pruned['label'] == i].sample(frac=frac).index)\n",
    "#     df_pruned.long_labels.value_counts().plot.bar()\n",
    "\n",
    "#     df_pruned.to_csv('train.csv',index=False)\n",
    "\n",
    "#     df_remove_from_train_images = df[~df.isin(df_pruned)].dropna()\n",
    "\n",
    "#     images_dir= \"/[Put the path of the images here]/\"\n",
    "#     #run this inside of train_images folder to actually delete the images.\n",
    "#     for i in df_remove_from_train_images['image_id'].values:\n",
    "#         if os.path.exists(images_dir+i):\n",
    "#             os.remove(i)\n",
    "#         else:\n",
    "#             print(i, \"does not exist\")"
   ]
  },
  {
   "cell_type": "markdown",
   "id": "bottom-orbit",
   "metadata": {},
   "source": [
    "## We are of the opinion that most of the images in the train dataset are in well-lit conditions that aren't realistic to every possible farmer's situation. \n",
    "\n",
    "We have decided to create an augmentation that randomizes the brightness setting of the images."
   ]
  },
  {
   "cell_type": "code",
   "execution_count": null,
   "id": "buried-rugby",
   "metadata": {},
   "outputs": [],
   "source": [
    "fig, axs = plt.subplots(1,5,figsize=(12,4))\n",
    "im = Image.open(\"demo_image.png\")\n",
    "for change, ax in zip(np.linspace(-0.5, 0.5,5), axs):\n",
    "    im_output = enhancer.enhance(1+change)\n",
    "    print(change)\n",
    "    im_output.show(ax=ax, title=f'change={change:.2f}')"
   ]
  }
 ],
 "metadata": {
  "kernelspec": {
   "display_name": "Python 3",
   "language": "python",
   "name": "python3"
  },
  "language_info": {
   "codemirror_mode": {
    "name": "ipython",
    "version": 3
   },
   "file_extension": ".py",
   "mimetype": "text/x-python",
   "name": "python",
   "nbconvert_exporter": "python",
   "pygments_lexer": "ipython3",
   "version": "3.8.5"
  }
 },
 "nbformat": 4,
 "nbformat_minor": 5
}
