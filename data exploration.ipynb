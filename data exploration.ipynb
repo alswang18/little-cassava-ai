{
 "cells": [
  {
   "cell_type": "code",
   "execution_count": 1,
   "id": "alpha-filling",
   "metadata": {},
   "outputs": [],
   "source": [
    "import os\n",
    "from PIL import Image\n",
    "from collections import defaultdict\n",
    "import pandas as pd\n",
    "import matplotlib.pyplot as plt\n",
    "# os.chdir(os.getcwd()+'\\\\train_images\\\\')"
   ]
  },
  {
   "cell_type": "code",
   "execution_count": 2,
   "id": "contrary-dynamics",
   "metadata": {},
   "outputs": [
    {
     "ename": "NameError",
     "evalue": "name 'im' is not defined",
     "output_type": "error",
     "traceback": [
      "\u001b[1;31m---------------------------------------------------------------------------\u001b[0m",
      "\u001b[1;31mNameError\u001b[0m                                 Traceback (most recent call last)",
      "\u001b[1;32m<ipython-input-2-304e1b09982c>\u001b[0m in \u001b[0;36m<module>\u001b[1;34m\u001b[0m\n\u001b[0;32m     14\u001b[0m     \u001b[0msize_counts\u001b[0m\u001b[1;33m[\u001b[0m\u001b[0mim\u001b[0m\u001b[1;33m.\u001b[0m\u001b[0msize\u001b[0m\u001b[1;33m]\u001b[0m\u001b[1;33m+=\u001b[0m\u001b[1;36m1\u001b[0m\u001b[1;33m\u001b[0m\u001b[1;33m\u001b[0m\u001b[0m\n\u001b[0;32m     15\u001b[0m \u001b[0msize_counts\u001b[0m \u001b[1;33m=\u001b[0m \u001b[0mdict\u001b[0m\u001b[1;33m(\u001b[0m\u001b[0msize_counts\u001b[0m\u001b[1;33m)\u001b[0m\u001b[1;33m\u001b[0m\u001b[1;33m\u001b[0m\u001b[0m\n\u001b[1;32m---> 16\u001b[1;33m \u001b[0mprint\u001b[0m\u001b[1;33m(\u001b[0m\u001b[0mlen\u001b[0m\u001b[1;33m(\u001b[0m\u001b[0mimages\u001b[0m\u001b[1;33m)\u001b[0m\u001b[1;33m,\u001b[0m \u001b[1;34m\"images of size:\"\u001b[0m\u001b[1;33m,\u001b[0m \u001b[0mim\u001b[0m\u001b[1;33m.\u001b[0m\u001b[0msize\u001b[0m\u001b[1;33m)\u001b[0m\u001b[1;33m\u001b[0m\u001b[1;33m\u001b[0m\u001b[0m\n\u001b[0m",
      "\u001b[1;31mNameError\u001b[0m: name 'im' is not defined"
     ]
    }
   ],
   "source": [
    "# don't run without train_images folder\n",
    "images = os.listdir()\n",
    "size_counts = defaultdict(int)\n",
    "def is_jpg(filename):\n",
    "    try:\n",
    "        i=Image.open(filename)\n",
    "        return i.format =='JPEG'\n",
    "    except IOError:\n",
    "        return False\n",
    "for i in range(len(images)-1, len(images)):\n",
    "    if not is_jpg(images[i]):\n",
    "        continue\n",
    "    im = Image.open(images[i])\n",
    "    size_counts[im.size]+=1\n",
    "size_counts = dict(size_counts)\n",
    "print(len(images), \"images of size:\", im.size)"
   ]
  },
  {
   "cell_type": "code",
   "execution_count": null,
   "id": "coordinate-dublin",
   "metadata": {},
   "outputs": [],
   "source": [
    "def numToLong(input):\n",
    "    return {\"0\": \"Cassava Bacterial Blight (CBB)\", \n",
    "            \"1\": \"Cassava Brown Streak Disease (CBSD)\", \n",
    "            \"2\": \"Cassava Green Mottle (CGM)\", \n",
    "            \"3\": \"Cassava Mosaic Disease (CMD)\", \n",
    "            \"4\": \"Healthy\"}[str(input)]\n",
    "\n",
    "df = pd.read_csv('../train.csv')\n",
    "df['long_labels'] = df.label.map(lambda x: numToLong(x))\n",
    "df.long_labels.value_counts().plot.bar()\n",
    "print(im.size)"
   ]
  }
 ],
 "metadata": {
  "kernelspec": {
   "display_name": "Python 3",
   "language": "python",
   "name": "python3"
  },
  "language_info": {
   "codemirror_mode": {
    "name": "ipython",
    "version": 3
   },
   "file_extension": ".py",
   "mimetype": "text/x-python",
   "name": "python",
   "nbconvert_exporter": "python",
   "pygments_lexer": "ipython3",
   "version": "3.9.2"
  }
 },
 "nbformat": 4,
 "nbformat_minor": 5
}
